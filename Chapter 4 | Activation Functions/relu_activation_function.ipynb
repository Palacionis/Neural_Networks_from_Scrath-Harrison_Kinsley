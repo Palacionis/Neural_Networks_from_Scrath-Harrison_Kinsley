{
 "cells": [
  {
   "cell_type": "code",
   "execution_count": 9,
   "source": [
    "import numpy as np\n",
    "import nnfs # package by the book's author to generate random data\n",
    "from nnfs.datasets import spiral_data\n",
    "import matplotlib.pyplot as plt"
   ],
   "outputs": [],
   "metadata": {}
  },
  {
   "cell_type": "markdown",
   "source": [
    "# Relu activation function"
   ],
   "metadata": {}
  },
  {
   "cell_type": "code",
   "execution_count": 6,
   "source": [
    "# Relu activation function simply returns 0 for any negative values\n",
    "\n",
    "inputs = [1, 2, -3, 3.33, -2,7]\n",
    "\n",
    "outputs = []\n",
    "\n",
    "for i in inputs:\n",
    "  if i > 0:\n",
    "    outputs.append(i)\n",
    "  else:\n",
    "    outputs.append(0)\n",
    "    \n",
    "print(outputs)  "
   ],
   "outputs": [
    {
     "output_type": "stream",
     "name": "stdout",
     "text": [
      "[1, 2, 0, 3.33, 0, 7]\n"
     ]
    }
   ],
   "metadata": {}
  },
  {
   "cell_type": "code",
   "execution_count": 7,
   "source": [
    "# one liner\n",
    "outputs_2 = [x if x > 0  else 0 for x in inputs]\n",
    "print(outputs_2)"
   ],
   "outputs": [
    {
     "output_type": "stream",
     "name": "stdout",
     "text": [
      "[1, 2, 0, 3.33, 0, 7]\n"
     ]
    }
   ],
   "metadata": {}
  },
  {
   "cell_type": "code",
   "execution_count": 10,
   "source": [
    "# numpy equivalent\n",
    "\n",
    "outputs_np = np.maximum(0, inputs)\n",
    "print(outputs_np)"
   ],
   "outputs": [
    {
     "output_type": "stream",
     "name": "stdout",
     "text": [
      "[1.   2.   0.   3.33 0.   7.  ]\n"
     ]
    }
   ],
   "metadata": {}
  },
  {
   "cell_type": "code",
   "execution_count": null,
   "source": [],
   "outputs": [],
   "metadata": {}
  }
 ],
 "metadata": {
  "orig_nbformat": 4,
  "language_info": {
   "name": "python",
   "version": "3.8.6",
   "mimetype": "text/x-python",
   "codemirror_mode": {
    "name": "ipython",
    "version": 3
   },
   "pygments_lexer": "ipython3",
   "nbconvert_exporter": "python",
   "file_extension": ".py"
  },
  "kernelspec": {
   "name": "python3",
   "display_name": "Python 3.8.6 64-bit ('Kursams': conda)"
  },
  "interpreter": {
   "hash": "2a893ff8458ba932f92e4e064d7c215f78239c4614ca04d610e727159f096c4f"
  }
 },
 "nbformat": 4,
 "nbformat_minor": 2
}