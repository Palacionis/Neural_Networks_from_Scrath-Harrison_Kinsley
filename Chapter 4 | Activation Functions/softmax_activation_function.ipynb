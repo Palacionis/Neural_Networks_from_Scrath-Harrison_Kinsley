{
 "cells": [
  {
   "cell_type": "code",
   "execution_count": 2,
   "source": [
    "import numpy as np\n",
    "import nnfs # package by the book's author to generate random data\n",
    "from nnfs.datasets import spiral_data\n",
    "import matplotlib.pyplot as plt"
   ],
   "outputs": [],
   "metadata": {}
  },
  {
   "cell_type": "markdown",
   "source": [
    "# Softmax activation function"
   ],
   "metadata": {}
  },
  {
   "cell_type": "code",
   "execution_count": 18,
   "source": [
    "# Softmax activation function is used when dealing with classifiers - returning a confidence in all value belonging to a group\n",
    "\n",
    "layer_outputs = [4.8, 1.21, 2.385]\n",
    "\n",
    "# to use softmax function Eulers number is needed\n",
    "E = np.e # 2.718281828459045\n",
    "\n",
    "exp_values = []\n",
    "for value in layer_outputs:\n",
    "  exp_values.append(E ** value)\n",
    "  \n",
    "print(exp_values)\n",
    "\n",
    "# then we need to normalize the values\n",
    "\n",
    "norm_base = sum(exp_values)\n",
    "norm_values = []\n",
    "\n",
    "for value in exp_values:\n",
    "  norm_values.append(value / norm_base)\n",
    "\n",
    "print(f'Normalized values :\\n{norm_values}')\n",
    "print(f'Sum of normalized values :\\n{sum(norm_values)}')\n"
   ],
   "outputs": [
    {
     "output_type": "stream",
     "name": "stdout",
     "text": [
      "[121.51041751873483, 3.353484652549023, 10.859062664920513]\n",
      "Normalized values :\n",
      "[0.8952826639572619, 0.024708306782099374, 0.0800090292606387]\n",
      "Sum of normalized values :\n",
      "0.9999999999999999\n"
     ]
    }
   ],
   "metadata": {}
  },
  {
   "cell_type": "code",
   "execution_count": 19,
   "source": [
    "# using numpy\n",
    "exp_values = np.exp(layer_outputs)\n",
    "norm_values_np = exp_values / np.sum(exp_values)\n",
    "print(f'Normalized values using numpy:\\n{norm_values_np}')"
   ],
   "outputs": [
    {
     "output_type": "stream",
     "name": "stdout",
     "text": [
      "Normalized values using numpy:\n",
      "[0.89528266 0.02470831 0.08000903]\n"
     ]
    }
   ],
   "metadata": {}
  },
  {
   "cell_type": "code",
   "execution_count": 22,
   "source": [
    "# to use bacthes \n",
    "inputs = [[1.0, 2.0, 3.0],\n",
    "          [2.0, 5.0, -1.0]] \n",
    "\n",
    "\n",
    "exp_values = np.exp(inputs)\n",
    "norm_values_np = exp_values / np.sum(exp_values, axis = 1, keepdims = True)\n",
    "print(f'Normalized values using numpy with batches:\\n{norm_values_np}')"
   ],
   "outputs": [
    {
     "output_type": "stream",
     "name": "stdout",
     "text": [
      "Normalized values using numpy with batches:\n",
      "[[0.09003057 0.24472847 0.66524096]\n",
      " [0.04731416 0.95033021 0.00235563]]\n"
     ]
    }
   ],
   "metadata": {}
  },
  {
   "cell_type": "code",
   "execution_count": 26,
   "source": [
    "print(f'Sum without axis:\\n{np.sum(inputs)}')\n",
    "\n",
    "print(f'Sum with axis:\\n{np.sum(inputs, axis = 1, keepdims = Truet)}')"
   ],
   "outputs": [
    {
     "output_type": "stream",
     "name": "stdout",
     "text": [
      "Sum without axis:\n",
      "12.0\n",
      "Sum with axis:\n",
      "[[6.]\n",
      " [6.]]\n"
     ]
    }
   ],
   "metadata": {}
  },
  {
   "cell_type": "markdown",
   "source": [
    "# Stop overflowing exponential function"
   ],
   "metadata": {}
  },
  {
   "cell_type": "code",
   "execution_count": 31,
   "source": [
    "# The nice thing about softmax function is that we can subtract any value out of the inputs and it will not change the results\n",
    "\n",
    "class Activation_Softmax():\n",
    "  def forward(self, inputs):\n",
    "    \n",
    "    # get unnormalized probabilites\n",
    "    exp_values = np.exp(inputs - np.max(inputs, axis = 1, keepdims = True))\n",
    "    \n",
    "    # normalize them for each sample\n",
    "    probabilities = exp_values / np.sum(exp_values, axis = 1, keepdims = True)\n",
    "    \n",
    "    self.output = probabilities"
   ],
   "outputs": [],
   "metadata": {}
  },
  {
   "cell_type": "code",
   "execution_count": 34,
   "source": [
    "softmax = Activation_Softmax()\n",
    "\n",
    "softmax.forward([[1,2,3]])\n",
    "print(softmax.output)"
   ],
   "outputs": [
    {
     "output_type": "stream",
     "name": "stdout",
     "text": [
      "[[0.09003057 0.24472847 0.66524096]]\n"
     ]
    }
   ],
   "metadata": {}
  },
  {
   "cell_type": "code",
   "execution_count": 38,
   "source": [
    "# subtracting any value from each value, in this case its 4\n",
    "softmax.forward([[-3, -2, -1]])\n",
    "print(softmax.output)"
   ],
   "outputs": [
    {
     "output_type": "stream",
     "name": "stdout",
     "text": [
      "[[0.09003057 0.24472847 0.66524096]]\n"
     ]
    }
   ],
   "metadata": {}
  },
  {
   "cell_type": "code",
   "execution_count": null,
   "source": [],
   "outputs": [],
   "metadata": {}
  }
 ],
 "metadata": {
  "orig_nbformat": 4,
  "language_info": {
   "name": "python",
   "version": "3.8.6",
   "mimetype": "text/x-python",
   "codemirror_mode": {
    "name": "ipython",
    "version": 3
   },
   "pygments_lexer": "ipython3",
   "nbconvert_exporter": "python",
   "file_extension": ".py"
  },
  "kernelspec": {
   "name": "python3",
   "display_name": "Python 3.8.6 64-bit ('Kursams': conda)"
  },
  "interpreter": {
   "hash": "2a893ff8458ba932f92e4e064d7c215f78239c4614ca04d610e727159f096c4f"
  }
 },
 "nbformat": 4,
 "nbformat_minor": 2
}