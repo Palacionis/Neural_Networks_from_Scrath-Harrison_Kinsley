{
 "cells": [
  {
   "cell_type": "code",
   "execution_count": 4,
   "source": [
    "import numpy as np\n",
    "import nnfs # package by the book's author to generate random data\n",
    "from nnfs.datasets import spiral_data\n",
    "import matplotlib.pyplot as plt"
   ],
   "outputs": [],
   "metadata": {}
  },
  {
   "cell_type": "code",
   "execution_count": 24,
   "source": [
    "# Dense layer\n",
    "\n",
    "class Layer_Dense:\n",
    "  \n",
    "  # Layer initialization\n",
    "  def __init__(self, n_inputs, n_neurons):\n",
    "    # initialize weights and biases\n",
    "    self.weights = 0.01 * np.random.rand(n_inputs, n_neurons)\n",
    "    self.biases = np.zeros((1, n_neurons))\n",
    "    \n",
    "    \n",
    "  # Forward pass\n",
    "  \n",
    "  def forward(self, inputs):\n",
    "    # calculating the dot product\n",
    "    self.output = np.dot(inputs, self.weights) + self.biases\n",
    "    \n",
    "    \n",
    "# Relu activation\n",
    "class Activation_Relu():\n",
    "  \n",
    "  # Forward pass\n",
    "  def forward(self, inputs):\n",
    "    # calculate output value from inputs\n",
    "    self.output = np.maximum(0, inputs) # return value if its > 0 else 0 in the same shape as inputs\n",
    "    \n",
    "  \n",
    "\n",
    "\n",
    "# Softmax activation\n",
    "class Activation_Softmax():\n",
    "  \n",
    "  # forward pass\n",
    "  def forward(self, inputs):\n",
    "    \n",
    "    # get unnormalized probabilities\n",
    "    exp_values = np.exp(inputs - np.max(inputs, axis = 1, keepdims = True))\n",
    "    \n",
    "    # normalizing the probabilities\n",
    "    probabilities = exp_values / np.sum(exp_values, axis = 1, keepdims = True)\n",
    "    \n",
    "    self.output = probabilities\n",
    "    "
   ],
   "outputs": [],
   "metadata": {}
  },
  {
   "cell_type": "code",
   "execution_count": 46,
   "source": [
    "# creating dataset\n",
    "X, y = spiral_data(samples = 100, classes = 3)\n",
    "\n",
    "# creating a dense layer with 2 input and 3 output values\n",
    "dense1 = Layer_Dense(2, 3)\n",
    "\n",
    "# creating a relu activation which will be used with dense layer\n",
    "activation1 = Activation_Relu()\n",
    "\n",
    "# create a second dense layer with 3 input features ( as we take output from the previous layer) and 3 output values\n",
    "dense2 = Layer_Dense(3,3)\n",
    "\n",
    "# create a softmax activation to be used with the dense layer\n",
    "activation2 = Activation_Softmax()\n",
    "\n",
    "# make a forward pass through the training data\n",
    "dense1.forward(X)\n",
    "\n",
    "# make a forward pass to activation function which takes the output of the first dense layer\n",
    "activation1.forward(dense1.output)\n",
    "\n",
    "# make a forward pass through the second dense layer which takes outputs from the previous activation function \n",
    "dense2.forward(activation1.output)\n",
    "\n",
    "# make a forward pass through the second activation function which takes the inputs as outputs from the second dense layer\n",
    "activation2.forward(dense2.output)\n"
   ],
   "outputs": [],
   "metadata": {}
  },
  {
   "cell_type": "markdown",
   "source": [
    "# Checkign the results"
   ],
   "metadata": {}
  },
  {
   "cell_type": "code",
   "execution_count": 41,
   "source": [
    "# The results is as expected, since we have 3 classes in our data, it predicts a value to be in any of those 3 classes equally at 33%, to make it better\n",
    "# we need to tell the network how badly it had predicted the value to be so it can adjust it's weights and biases"
   ],
   "outputs": [],
   "metadata": {}
  },
  {
   "cell_type": "code",
   "execution_count": 47,
   "source": [
    "print(activation2.output[:5])"
   ],
   "outputs": [
    {
     "output_type": "stream",
     "name": "stdout",
     "text": [
      "[[0.33333333 0.33333333 0.33333333]\n",
      " [0.3333334  0.33333337 0.33333323]\n",
      " [0.33333346 0.33333341 0.33333313]\n",
      " [0.33333352 0.33333344 0.33333303]\n",
      " [0.33333344 0.33333339 0.33333317]]\n"
     ]
    }
   ],
   "metadata": {}
  },
  {
   "cell_type": "code",
   "execution_count": null,
   "source": [],
   "outputs": [],
   "metadata": {}
  }
 ],
 "metadata": {
  "orig_nbformat": 4,
  "language_info": {
   "name": "python",
   "version": "3.8.6",
   "mimetype": "text/x-python",
   "codemirror_mode": {
    "name": "ipython",
    "version": 3
   },
   "pygments_lexer": "ipython3",
   "nbconvert_exporter": "python",
   "file_extension": ".py"
  },
  "kernelspec": {
   "name": "python3",
   "display_name": "Python 3.8.6 64-bit ('Kursams': conda)"
  },
  "interpreter": {
   "hash": "2a893ff8458ba932f92e4e064d7c215f78239c4614ca04d610e727159f096c4f"
  }
 },
 "nbformat": 4,
 "nbformat_minor": 2
}