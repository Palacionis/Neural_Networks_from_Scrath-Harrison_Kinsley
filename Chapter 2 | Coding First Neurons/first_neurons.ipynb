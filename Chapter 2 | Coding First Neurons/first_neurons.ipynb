{
 "cells": [
  {
   "cell_type": "code",
   "execution_count": 1,
   "source": [
    "import numpy as np"
   ],
   "outputs": [],
   "metadata": {}
  },
  {
   "cell_type": "code",
   "execution_count": 54,
   "source": [
    "# Using only Python\n",
    "\n",
    "inputs = [[1.0, 2.0, 3.0, 2.5],\n",
    "          [2.0, 5.0, -1.0, 2.0],\n",
    "          [-1.5, 2.7, 3.3, -0.8]]\n",
    "\n",
    "\n",
    "weights = [[0.2, 0.8, -0.5, 1.0],\n",
    "           [0.5, -0.91, 0.26, -0.5],\n",
    "           [-0.26, -0.27, 0.17, 0.87]]\n",
    "\n",
    "           \n",
    "biases = [2.0, 3.0, 0.5]\n",
    "\n",
    "\n",
    "layer_outputs = []\n",
    "\n",
    "# for each neuron\n",
    "for neuron_weights, neuron_bias in zip(weights, biases): \n",
    "  # for each list of input\n",
    "  for each_input in inputs:\n",
    "    neuron_output = 0\n",
    "    # for each input and weight to the neuron\n",
    "    for n_input, weight in zip(each_input, neuron_weights): \n",
    "      # multiply the input for each associated weight\n",
    "      # and add to the neuron's output variable\n",
    "      neuron_output += n_input * weight\n",
    "    # add bias\n",
    "    neuron_output += neuron_bias\n",
    "    # put neurons result to the layer's output\n",
    "    layer_outputs.append((neuron_output))\n",
    "\n",
    "print(f\"Python output \\n{layer_outputs}\")\n",
    "\n",
    "# shaping it with numpy to match the input structure\n",
    "print(f\"Reshaped result \\n{np.reshape(np.expand_dims(np.array(layer_outputs), axis = 0), (3,3)).T}\")"
   ],
   "outputs": [
    {
     "output_type": "stream",
     "name": "stdout",
     "text": [
      "Python output \n",
      "[4.8, 8.9, 1.4100000000000001, 1.21, -1.8099999999999996, 1.0509999999999997, 2.385, 0.19999999999999996, 0.025999999999999912]\n",
      "Reshaped result \n",
      "[[ 4.8    1.21   2.385]\n",
      " [ 8.9   -1.81   0.2  ]\n",
      " [ 1.41   1.051  0.026]]\n"
     ]
    }
   ],
   "metadata": {}
  },
  {
   "cell_type": "code",
   "execution_count": 55,
   "source": [
    "inputs = [[1.0, 2.0, 3.0, 2.5],\n",
    "          [2.0, 5.0, -1.0, 2.0],\n",
    "          [-1.5, 2.7, 3.3, -0.8]]\n",
    "\n",
    "\n",
    "weights = [[0.2, 0.8, -0.5, 1.0],\n",
    "           [0.5, -0.91, 0.26, -0.5],\n",
    "           [-0.26, -0.27, 0.17, 0.87]]\n",
    "\n",
    "           \n",
    "biases = [2.0, 3.0, 0.5]\n",
    "\n",
    "layer_outputs = np.dot(inputs, np.array(weights).T) + biases\n",
    "\n",
    "print(layer_outputs)"
   ],
   "outputs": [
    {
     "output_type": "stream",
     "name": "stdout",
     "text": [
      "[[ 4.8    1.21   2.385]\n",
      " [ 8.9   -1.81   0.2  ]\n",
      " [ 1.41   1.051  0.026]]\n"
     ]
    }
   ],
   "metadata": {}
  },
  {
   "cell_type": "code",
   "execution_count": null,
   "source": [],
   "outputs": [],
   "metadata": {}
  }
 ],
 "metadata": {
  "orig_nbformat": 4,
  "language_info": {
   "name": "python",
   "version": "3.8.6",
   "mimetype": "text/x-python",
   "codemirror_mode": {
    "name": "ipython",
    "version": 3
   },
   "pygments_lexer": "ipython3",
   "nbconvert_exporter": "python",
   "file_extension": ".py"
  },
  "kernelspec": {
   "name": "python3",
   "display_name": "Python 3.8.6 64-bit ('kursams': conda)"
  },
  "interpreter": {
   "hash": "040873fb72126128f05508f0b6a1e05b0ca1d2e07e9c790eae0e4d1f53f711e0"
  }
 },
 "nbformat": 4,
 "nbformat_minor": 2
}